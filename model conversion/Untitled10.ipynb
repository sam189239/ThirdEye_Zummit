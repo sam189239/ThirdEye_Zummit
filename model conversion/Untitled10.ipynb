{
  "cells": [
    {
      "cell_type": "code",
      "execution_count": 1,
      "metadata": {
        "colab": {
          "base_uri": "https://localhost:8080/"
        },
        "id": "t7BgNBD8wZW6",
        "outputId": "35026f45-64d5-4385-ed88-3242557e3aa3"
      },
      "outputs": [
        {
          "name": "stdout",
          "output_type": "stream",
          "text": [
            "Cloning into 'onnxruntime'...\n",
            "remote: Enumerating objects: 213884, done.\u001b[K\n",
            "remote: Total 213884 (delta 0), reused 0 (delta 0), pack-reused 213884\u001b[K\n",
            "Receiving objects: 100% (213884/213884), 762.66 MiB | 29.86 MiB/s, done.\n",
            "Resolving deltas: 100% (162291/162291), done.\n",
            "Checking out files: 100% (6083/6083), done.\n",
            "Submodule 'cmake/external/SafeInt/safeint' (https://github.com/dcleblanc/SafeInt.git) registered for path 'cmake/external/SafeInt/safeint'\n",
            "Submodule 'cmake/external/cub' (https://github.com/NVlabs/cub.git) registered for path 'cmake/external/cub'\n",
            "Submodule 'cmake/external/cxxopts' (https://github.com/jarro2783/cxxopts.git) registered for path 'cmake/external/cxxopts'\n",
            "Submodule 'cmake/external/date' (https://github.com/HowardHinnant/date.git) registered for path 'cmake/external/date'\n",
            "Submodule 'cmake/external/dlpack' (https://github.com/dmlc/dlpack.git) registered for path 'cmake/external/dlpack'\n",
            "Submodule 'cmake/external/eigen' (https://gitlab.com/libeigen/eigen.git) registered for path 'cmake/external/eigen'\n",
            "Submodule 'cmake/external/emsdk' (https://github.com/emscripten-core/emsdk.git) registered for path 'cmake/external/emsdk'\n",
            "Submodule 'cmake/external/flatbuffers' (https://github.com/google/flatbuffers.git) registered for path 'cmake/external/flatbuffers'\n",
            "Submodule 'cmake/external/googlebenchmark' (https://github.com/google/benchmark.git) registered for path 'cmake/external/googlebenchmark'\n",
            "Submodule 'cmake/external/googletest' (https://github.com/google/googletest.git) registered for path 'cmake/external/googletest'\n",
            "Submodule 'cmake/external/json' (https://github.com/nlohmann/json.git) registered for path 'cmake/external/json'\n",
            "Submodule 'cmake/external/libprotobuf-mutator' (https://github.com/google/libprotobuf-mutator.git) registered for path 'cmake/external/libprotobuf-mutator'\n",
            "Submodule 'cmake/external/mimalloc' (https://github.com/microsoft/mimalloc.git) registered for path 'cmake/external/mimalloc'\n",
            "Submodule 'cmake/external/mp11' (https://github.com/boostorg/mp11.git) registered for path 'cmake/external/mp11'\n",
            "Submodule 'cmake/external/nsync' (https://github.com/google/nsync.git) registered for path 'cmake/external/nsync'\n",
            "Submodule 'cmake/external/onnx' (https://github.com/onnx/onnx.git) registered for path 'cmake/external/onnx'\n",
            "Submodule 'cmake/external/onnx-tensorrt' (https://github.com/onnx/onnx-tensorrt.git) registered for path 'cmake/external/onnx-tensorrt'\n",
            "Submodule 'cmake/external/onnxruntime-extensions' (https://github.com/microsoft/onnxruntime-extensions.git) registered for path 'cmake/external/onnxruntime-extensions'\n",
            "Submodule 'cmake/external/protobuf' (https://github.com/protocolbuffers/protobuf.git) registered for path 'cmake/external/protobuf'\n",
            "Submodule 'cmake/external/pytorch_cpuinfo' (https://github.com/pytorch/cpuinfo.git) registered for path 'cmake/external/pytorch_cpuinfo'\n",
            "Submodule 'cmake/external/re2' (https://github.com/google/re2.git) registered for path 'cmake/external/re2'\n",
            "Submodule 'cmake/external/tensorboard' (https://github.com/tensorflow/tensorboard.git) registered for path 'cmake/external/tensorboard'\n",
            "Submodule 'cmake/external/wil' (https://github.com/microsoft/wil.git) registered for path 'cmake/external/wil'\n",
            "Submodule 'server/external/spdlog' (https://github.com/gabime/spdlog.git) registered for path 'server/external/spdlog'\n",
            "Cloning into '/content/onnxruntime/cmake/external/SafeInt/safeint'...\n",
            "remote: Enumerating objects: 874, done.        \n",
            "remote: Counting objects: 100% (87/87), done.        \n",
            "remote: Compressing objects: 100% (58/58), done.        \n",
            "remote: Total 874 (delta 46), reused 61 (delta 28), pack-reused 787        \n",
            "Receiving objects: 100% (874/874), 660.07 KiB | 19.41 MiB/s, done.\n",
            "Resolving deltas: 100% (508/508), done.\n",
            "Cloning into '/content/onnxruntime/cmake/external/cub'...\n",
            "remote: Enumerating objects: 35625, done.        \n",
            "remote: Total 35625 (delta 0), reused 0 (delta 0), pack-reused 35625        \n",
            "Receiving objects: 100% (35625/35625), 17.86 MiB | 26.12 MiB/s, done.\n",
            "Resolving deltas: 100% (30826/30826), done.\n",
            "Cloning into '/content/onnxruntime/cmake/external/cxxopts'...\n",
            "remote: Enumerating objects: 1692, done.        \n",
            "remote: Counting objects: 100% (157/157), done.        \n",
            "remote: Compressing objects: 100% (77/77), done.        \n",
            "remote: Total 1692 (delta 68), reused 137 (delta 64), pack-reused 1535        \n",
            "Receiving objects: 100% (1692/1692), 516.68 KiB | 18.45 MiB/s, done.\n",
            "Resolving deltas: 100% (987/987), done.\n",
            "Cloning into '/content/onnxruntime/cmake/external/date'...\n",
            "remote: Enumerating objects: 3839, done.        \n",
            "remote: Counting objects: 100% (184/184), done.        \n",
            "remote: Compressing objects: 100% (74/74), done.        \n",
            "remote: Total 3839 (delta 89), reused 150 (delta 85), pack-reused 3655        \n",
            "Receiving objects: 100% (3839/3839), 3.24 MiB | 22.75 MiB/s, done.\n",
            "Resolving deltas: 100% (2467/2467), done.\n",
            "Cloning into '/content/onnxruntime/cmake/external/dlpack'...\n",
            "remote: Enumerating objects: 431, done.        \n",
            "remote: Counting objects: 100% (96/96), done.        \n",
            "remote: Compressing objects: 100% (37/37), done.        \n",
            "remote: Total 431 (delta 75), reused 59 (delta 59), pack-reused 335        \n",
            "Receiving objects: 100% (431/431), 1.69 MiB | 20.85 MiB/s, done.\n",
            "Resolving deltas: 100% (145/145), done.\n",
            "Cloning into '/content/onnxruntime/cmake/external/eigen'...\n",
            "remote: Enumerating objects: 115872, done.        \n",
            "remote: Counting objects: 100% (938/938), done.        \n",
            "remote: Compressing objects: 100% (418/418), done.        \n",
            "remote: Total 115872 (delta 568), reused 817 (delta 520), pack-reused 114934        \n",
            "Receiving objects: 100% (115872/115872), 103.12 MiB | 17.66 MiB/s, done.\n",
            "Resolving deltas: 100% (95378/95378), done.\n",
            "Cloning into '/content/onnxruntime/cmake/external/emsdk'...\n",
            "remote: Enumerating objects: 3264, done.        \n",
            "remote: Total 3264 (delta 0), reused 0 (delta 0), pack-reused 3264        \n",
            "Receiving objects: 100% (3264/3264), 1.88 MiB | 25.72 MiB/s, done.\n",
            "Resolving deltas: 100% (2131/2131), done.\n",
            "Cloning into '/content/onnxruntime/cmake/external/flatbuffers'...\n",
            "remote: Enumerating objects: 26141, done.        \n",
            "remote: Counting objects: 100% (3017/3017), done.        \n",
            "remote: Compressing objects: 100% (1236/1236), done.        \n",
            "remote: Total 26141 (delta 1929), reused 2547 (delta 1646), pack-reused 23124        \n",
            "Receiving objects: 100% (26141/26141), 16.26 MiB | 22.03 MiB/s, done.\n",
            "Resolving deltas: 100% (18183/18183), done.\n",
            "Cloning into '/content/onnxruntime/cmake/external/googlebenchmark'...\n",
            "remote: Enumerating objects: 7093, done.        \n",
            "remote: Total 7093 (delta 0), reused 0 (delta 0), pack-reused 7093        \n",
            "Receiving objects: 100% (7093/7093), 2.14 MiB | 18.86 MiB/s, done.\n",
            "Resolving deltas: 100% (4726/4726), done.\n",
            "Cloning into '/content/onnxruntime/cmake/external/googletest'...\n",
            "remote: Enumerating objects: 24309, done.        \n",
            "remote: Counting objects: 100% (8/8), done.        \n",
            "remote: Compressing objects: 100% (7/7), done.        \n",
            "remote: Total 24309 (delta 0), reused 2 (delta 0), pack-reused 24301        \n",
            "Receiving objects: 100% (24309/24309), 10.03 MiB | 22.18 MiB/s, done.\n",
            "Resolving deltas: 100% (17994/17994), done.\n",
            "Cloning into '/content/onnxruntime/cmake/external/json'...\n",
            "remote: Enumerating objects: 90028, done.        \n",
            "remote: Total 90028 (delta 0), reused 0 (delta 0), pack-reused 90028        \n",
            "Receiving objects: 100% (90028/90028), 287.32 MiB | 25.90 MiB/s, done.\n",
            "Resolving deltas: 100% (71323/71323), done.\n",
            "Cloning into '/content/onnxruntime/cmake/external/libprotobuf-mutator'...\n",
            "remote: Enumerating objects: 2027, done.        \n",
            "remote: Counting objects: 100% (66/66), done.        \n",
            "remote: Compressing objects: 100% (48/48), done.        \n",
            "remote: Total 2027 (delta 32), reused 24 (delta 13), pack-reused 1961        \n",
            "Receiving objects: 100% (2027/2027), 406.13 KiB | 16.24 MiB/s, done.\n",
            "Resolving deltas: 100% (1423/1423), done.\n",
            "Cloning into '/content/onnxruntime/cmake/external/mimalloc'...\n",
            "remote: Enumerating objects: 11608, done.        \n",
            "remote: Counting objects: 100% (1739/1739), done.        \n",
            "remote: Compressing objects: 100% (283/283), done.        \n",
            "remote: Total 11608 (delta 1567), reused 1505 (delta 1456), pack-reused 9869        \n",
            "Receiving objects: 100% (11608/11608), 4.14 MiB | 22.55 MiB/s, done.\n",
            "Resolving deltas: 100% (8990/8990), done.\n",
            "Cloning into '/content/onnxruntime/cmake/external/mp11'...\n",
            "remote: Enumerating objects: 4500, done.        \n",
            "remote: Counting objects: 100% (451/451), done.        \n",
            "remote: Compressing objects: 100% (155/155), done.        \n",
            "remote: Total 4500 (delta 231), reused 433 (delta 223), pack-reused 4049        \n",
            "Receiving objects: 100% (4500/4500), 853.17 KiB | 16.41 MiB/s, done.\n",
            "Resolving deltas: 100% (2894/2894), done.\n",
            "Cloning into '/content/onnxruntime/cmake/external/nsync'...\n",
            "remote: Enumerating objects: 1021, done.        \n",
            "remote: Total 1021 (delta 0), reused 0 (delta 0), pack-reused 1021        \n",
            "Receiving objects: 100% (1021/1021), 326.59 KiB | 11.66 MiB/s, done.\n",
            "Resolving deltas: 100% (556/556), done.\n",
            "Cloning into '/content/onnxruntime/cmake/external/onnx'...\n",
            "remote: Enumerating objects: 30363, done.        \n",
            "remote: Counting objects: 100% (2177/2177), done.        \n",
            "remote: Compressing objects: 100% (1317/1317), done.        \n",
            "remote: Total 30363 (delta 1338), reused 1365 (delta 836), pack-reused 28186        \n",
            "Receiving objects: 100% (30363/30363), 21.25 MiB | 23.47 MiB/s, done.\n",
            "Resolving deltas: 100% (16963/16963), done.\n",
            "Cloning into '/content/onnxruntime/cmake/external/onnx-tensorrt'...\n",
            "remote: Enumerating objects: 1495, done.        \n",
            "remote: Counting objects: 100% (361/361), done.        \n",
            "remote: Compressing objects: 100% (145/145), done.        \n",
            "remote: Total 1495 (delta 228), reused 324 (delta 214), pack-reused 1134        \n",
            "Receiving objects: 100% (1495/1495), 2.07 MiB | 18.09 MiB/s, done.\n",
            "Resolving deltas: 100% (1010/1010), done.\n",
            "Cloning into '/content/onnxruntime/cmake/external/onnxruntime-extensions'...\n",
            "remote: Enumerating objects: 2120, done.        \n",
            "remote: Counting objects: 100% (887/887), done.        \n",
            "remote: Compressing objects: 100% (317/317), done.        \n",
            "remote: Total 2120 (delta 731), reused 576 (delta 570), pack-reused 1233        \n",
            "Receiving objects: 100% (2120/2120), 17.42 MiB | 28.90 MiB/s, done.\n",
            "Resolving deltas: 100% (1329/1329), done.\n",
            "Cloning into '/content/onnxruntime/cmake/external/protobuf'...\n",
            "remote: Enumerating objects: 98246, done.        \n",
            "remote: Counting objects: 100% (6/6), done.        \n",
            "remote: Compressing objects: 100% (6/6), done.        \n",
            "remote: Total 98246 (delta 0), reused 2 (delta 0), pack-reused 98240        \n",
            "Receiving objects: 100% (98246/98246), 90.05 MiB | 22.03 MiB/s, done.\n",
            "Resolving deltas: 100% (68900/68900), done.\n",
            "Cloning into '/content/onnxruntime/cmake/external/pytorch_cpuinfo'...\n",
            "remote: Enumerating objects: 5721, done.        \n",
            "remote: Counting objects: 100% (122/122), done.        \n",
            "remote: Compressing objects: 100% (73/73), done.        \n",
            "remote: Total 5721 (delta 55), reused 101 (delta 43), pack-reused 5599        \n",
            "Receiving objects: 100% (5721/5721), 4.70 MiB | 18.49 MiB/s, done.\n",
            "Resolving deltas: 100% (4283/4283), done.\n",
            "Cloning into '/content/onnxruntime/cmake/external/re2'...\n",
            "remote: Enumerating objects: 7121, done.        \n",
            "remote: Counting objects: 100% (939/939), done.        \n",
            "remote: Compressing objects: 100% (78/78), done.        \n",
            "remote: Total 7121 (delta 876), reused 861 (delta 861), pack-reused 6182        \n",
            "Receiving objects: 100% (7121/7121), 3.18 MiB | 23.24 MiB/s, done.\n",
            "Resolving deltas: 100% (5482/5482), done.\n",
            "Cloning into '/content/onnxruntime/cmake/external/tensorboard'...\n",
            "remote: Enumerating objects: 68375, done.        \n",
            "remote: Counting objects: 100% (1/1), done.        \n",
            "remote: Total 68375 (delta 0), reused 1 (delta 0), pack-reused 68374        \n",
            "Receiving objects: 100% (68375/68375), 112.97 MiB | 28.47 MiB/s, done.\n",
            "Resolving deltas: 100% (52333/52333), done.\n",
            "Cloning into '/content/onnxruntime/cmake/external/wil'...\n",
            "remote: Enumerating objects: 1096, done.        \n",
            "remote: Counting objects: 100% (304/304), done.        \n",
            "remote: Compressing objects: 100% (173/173), done.        \n",
            "remote: Total 1096 (delta 170), reused 209 (delta 91), pack-reused 792        \n",
            "Receiving objects: 100% (1096/1096), 1019.66 KiB | 15.69 MiB/s, done.\n",
            "Resolving deltas: 100% (641/641), done.\n",
            "Cloning into '/content/onnxruntime/server/external/spdlog'...\n",
            "remote: Enumerating objects: 24283, done.        \n",
            "remote: Counting objects: 100% (353/353), done.        \n",
            "remote: Compressing objects: 100% (175/175), done.        \n",
            "remote: Total 24283 (delta 179), reused 262 (delta 135), pack-reused 23930        \n",
            "Receiving objects: 100% (24283/24283), 40.33 MiB | 19.24 MiB/s, done.\n",
            "Resolving deltas: 100% (16023/16023), done.\n",
            "Submodule path 'cmake/external/SafeInt/safeint': checked out 'a104e0cf23be4fe848f7ef1f3e8996fe429b06bb'\n",
            "Submodule path 'cmake/external/cub': checked out 'c3cceac115c072fb63df1836ff46d8c60d9eb304'\n",
            "Submodule path 'cmake/external/cxxopts': checked out '3c73d91c0b04e2b59462f0a741be8c07024c1bc0'\n",
            "Submodule path 'cmake/external/date': checked out 'e7e1482087f58913b80a20b04d5c58d9d6d90155'\n",
            "Submodule path 'cmake/external/dlpack': checked out '277508879878e0a5b5b43599b1bea11f66eb3c6c'\n",
            "Submodule path 'cmake/external/eigen': checked out 'd10b27fe37736d2944630ecd7557cefa95cf87c9'\n",
            "Submodule path 'cmake/external/emsdk': checked out 'fc645b7626ebf86530dbd82fbece74d457e7ae07'\n",
            "Submodule path 'cmake/external/flatbuffers': checked out '6df40a2471737b27271bdd9b900ab5f3aec746c7'\n",
            "Submodule path 'cmake/external/googlebenchmark': checked out '7d0d9061d83b663ce05d9de5da3d5865a3845b79'\n",
            "Submodule path 'cmake/external/googletest': checked out '53495a2a7d6ba7e0691a7f3602e9a5324bba6e45'\n",
            "Submodule path 'cmake/external/json': checked out 'db78ac1d7716f56fc9f1b030b715f872f93964e4'\n",
            "Submodule path 'cmake/external/libprotobuf-mutator': checked out '7a2ed51a6b682a83e345ff49fc4cfd7ca47550db'\n",
            "Submodule path 'cmake/external/mimalloc': checked out 'f412df7a2b64421e1f1d61fde6055a6ea288e8f5'\n",
            "Submodule path 'cmake/external/mp11': checked out '21cace4e574180ba64d9307a5e4ea9e5e94d3e8d'\n",
            "Submodule path 'cmake/external/nsync': checked out '436617053d0f39a1019a371c3a9aa599b3cb2cea'\n",
            "Submodule path 'cmake/external/onnx': checked out '850a81b0b77786bf99ea90580242b084f86a6235'\n",
            "Submodule 'third_party/benchmark' (https://github.com/google/benchmark.git) registered for path 'cmake/external/onnx/third_party/benchmark'\n",
            "Submodule 'third_party/pybind11' (https://github.com/pybind/pybind11.git) registered for path 'cmake/external/onnx/third_party/pybind11'\n",
            "Cloning into '/content/onnxruntime/cmake/external/onnx/third_party/benchmark'...\n",
            "remote: Enumerating objects: 7093, done.        \n",
            "remote: Total 7093 (delta 0), reused 0 (delta 0), pack-reused 7093        \n",
            "Receiving objects: 100% (7093/7093), 2.13 MiB | 4.90 MiB/s, done.\n",
            "Resolving deltas: 100% (4727/4727), done.\n",
            "Cloning into '/content/onnxruntime/cmake/external/onnx/third_party/pybind11'...\n",
            "remote: Enumerating objects: 23792, done.        \n",
            "remote: Total 23792 (delta 0), reused 0 (delta 0), pack-reused 23792        \n",
            "Receiving objects: 100% (23792/23792), 8.34 MiB | 12.47 MiB/s, done.\n",
            "Resolving deltas: 100% (16699/16699), done.\n",
            "Submodule path 'cmake/external/onnx/third_party/benchmark': checked out 'e776aa0275e293707b6a0901e0e8d8a8a3679508'\n",
            "Submodule path 'cmake/external/onnx/third_party/pybind11': checked out '59a2ac2745d8a57ac94c6accced73620d59fb844'\n",
            "Submodule path 'cmake/external/onnx-tensorrt': checked out '4f54a1950e1174dca490900eb7b07cc374f53d41'\n",
            "Submodule 'third_party/onnx' (https://github.com/onnx/onnx.git) registered for path 'cmake/external/onnx-tensorrt/third_party/onnx'\n",
            "Cloning into '/content/onnxruntime/cmake/external/onnx-tensorrt/third_party/onnx'...\n",
            "remote: Enumerating objects: 30363, done.        \n",
            "remote: Counting objects: 100% (2176/2176), done.        \n",
            "remote: Compressing objects: 100% (1328/1328), done.        \n",
            "remote: Total 30363 (delta 1332), reused 1346 (delta 824), pack-reused 28187        \n",
            "Receiving objects: 100% (30363/30363), 21.16 MiB | 9.07 MiB/s, done.\n",
            "Resolving deltas: 100% (16957/16957), done.\n",
            "Submodule path 'cmake/external/onnx-tensorrt/third_party/onnx': checked out '994c6181247d7b419b28889fc57d5817e2089419'\n",
            "Submodule 'third_party/benchmark' (https://github.com/google/benchmark.git) registered for path 'cmake/external/onnx-tensorrt/third_party/onnx/third_party/benchmark'\n",
            "Submodule 'third_party/pybind11' (https://github.com/pybind/pybind11.git) registered for path 'cmake/external/onnx-tensorrt/third_party/onnx/third_party/pybind11'\n",
            "Cloning into '/content/onnxruntime/cmake/external/onnx-tensorrt/third_party/onnx/third_party/benchmark'...\n",
            "remote: Enumerating objects: 7093, done.        \n",
            "remote: Total 7093 (delta 0), reused 0 (delta 0), pack-reused 7093        \n",
            "Receiving objects: 100% (7093/7093), 2.14 MiB | 4.98 MiB/s, done.\n",
            "Resolving deltas: 100% (4726/4726), done.\n",
            "Cloning into '/content/onnxruntime/cmake/external/onnx-tensorrt/third_party/onnx/third_party/pybind11'...\n",
            "remote: Enumerating objects: 23792, done.        \n",
            "remote: Total 23792 (delta 0), reused 0 (delta 0), pack-reused 23792        \n",
            "Receiving objects: 100% (23792/23792), 8.34 MiB | 12.98 MiB/s, done.\n",
            "Resolving deltas: 100% (16699/16699), done.\n",
            "Submodule path 'cmake/external/onnx-tensorrt/third_party/onnx/third_party/benchmark': checked out 'e776aa0275e293707b6a0901e0e8d8a8a3679508'\n",
            "Submodule path 'cmake/external/onnx-tensorrt/third_party/onnx/third_party/pybind11': checked out '59a2ac2745d8a57ac94c6accced73620d59fb844'\n",
            "Submodule path 'cmake/external/onnxruntime-extensions': checked out 'd4b2aff0c890ae38bad87c20f5731333db2a2cc1'\n",
            "Submodule path 'cmake/external/protobuf': checked out '0dab03ba7bc438d7ba3eac2b2c1eb39ed520f928'\n",
            "Submodule 'third_party/benchmark' (https://github.com/google/benchmark.git) registered for path 'cmake/external/protobuf/third_party/benchmark'\n",
            "Submodule 'third_party/googletest' (https://github.com/google/googletest.git) registered for path 'cmake/external/protobuf/third_party/googletest'\n",
            "Cloning into '/content/onnxruntime/cmake/external/protobuf/third_party/benchmark'...\n",
            "remote: Enumerating objects: 7093, done.        \n",
            "remote: Total 7093 (delta 0), reused 0 (delta 0), pack-reused 7093        \n",
            "Receiving objects: 100% (7093/7093), 2.13 MiB | 4.90 MiB/s, done.\n",
            "Resolving deltas: 100% (4727/4727), done.\n",
            "Cloning into '/content/onnxruntime/cmake/external/protobuf/third_party/googletest'...\n",
            "remote: Enumerating objects: 24309, done.        \n",
            "remote: Counting objects: 100% (8/8), done.        \n",
            "remote: Compressing objects: 100% (7/7), done.        \n",
            "remote: Total 24309 (delta 0), reused 2 (delta 0), pack-reused 24301        \n",
            "Receiving objects: 100% (24309/24309), 10.09 MiB | 15.22 MiB/s, done.\n",
            "Resolving deltas: 100% (17994/17994), done.\n",
            "Submodule path 'cmake/external/protobuf/third_party/benchmark': checked out '5b7683f49e1e9223cf9927b24f6fd3d6bd82e3f8'\n",
            "Submodule path 'cmake/external/protobuf/third_party/googletest': checked out '5ec7f0c4a113e2f18ac2c6cc7df51ad6afc24081'\n",
            "Submodule path 'cmake/external/pytorch_cpuinfo': checked out '5916273f79a21551890fd3d56fc5375a78d1598d'\n",
            "Submodule path 'cmake/external/re2': checked out '4244cd1cb492fa1d10986ec67f862964c073f844'\n",
            "Submodule path 'cmake/external/tensorboard': checked out '373eb09e4c5d2b3cc2493f0949dc4be6b6a45e81'\n",
            "Submodule path 'cmake/external/wil': checked out 'e8c599bca6c56c44b6730ad93f6abbc9ecd60fc1'\n",
            "Submodule path 'server/external/spdlog': checked out '352281313fe1c4313bc222cb9de222afd50c822f'\n"
          ]
        }
      ],
      "source": [
        " !git clone --recursive https://github.com/Microsoft/onnxruntime"
      ]
    },
    {
      "cell_type": "code",
      "execution_count": 3,
      "metadata": {
        "colab": {
          "base_uri": "https://localhost:8080/"
        },
        "id": "RPug7SnJxF42",
        "outputId": "150fac61-d07f-4119-bf89-8d544cf31c31"
      },
      "outputs": [
        {
          "name": "stdout",
          "output_type": "stream",
          "text": [
            "/content/onnxruntime\n"
          ]
        }
      ],
      "source": [
        "cd onnxruntime"
      ]
    },
    {
      "cell_type": "code",
      "execution_count": 4,
      "metadata": {
        "colab": {
          "base_uri": "https://localhost:8080/",
          "height": 259
        },
        "id": "BTQwAqhhxKd0",
        "outputId": "c002972d-e77d-4875-fc51-daf8e1264874"
      },
      "outputs": [
        {
          "name": "stdout",
          "output_type": "stream",
          "text": [
            "Collecting onnxruntime\n",
            "  Downloading onnxruntime-1.11.0-cp37-cp37m-manylinux_2_17_x86_64.manylinux2014_x86_64.whl (5.2 MB)\n",
            "\u001b[K     |████████████████████████████████| 5.2 MB 18.6 MB/s \n",
            "\u001b[?25hRequirement already satisfied: numpy>=1.21.0 in /usr/local/lib/python3.7/dist-packages (from onnxruntime) (1.21.6)\n",
            "Requirement already satisfied: flatbuffers in /usr/local/lib/python3.7/dist-packages (from onnxruntime) (2.0)\n",
            "Requirement already satisfied: protobuf in /usr/local/lib/python3.7/dist-packages (from onnxruntime) (3.17.3)\n",
            "Requirement already satisfied: six>=1.9 in /usr/local/lib/python3.7/dist-packages (from protobuf->onnxruntime) (1.15.0)\n",
            "Installing collected packages: onnxruntime\n",
            "Successfully installed onnxruntime-1.11.0\n"
          ]
        },
        {
          "data": {
            "application/vnd.colab-display-data+json": {
              "pip_warning": {
                "packages": [
                  "onnxruntime"
                ]
              }
            }
          },
          "metadata": {},
          "output_type": "display_data"
        }
      ],
      "source": [
        "!pip install onnxruntime"
      ]
    },
    {
      "cell_type": "code",
      "execution_count": 5,
      "metadata": {
        "colab": {
          "base_uri": "https://localhost:8080/"
        },
        "id": "f7O2oE0hxKqq",
        "outputId": "0c4bb070-1d09-4865-8ae5-d07513613b14"
      },
      "outputs": [
        {
          "name": "stdout",
          "output_type": "stream",
          "text": [
            "Requirement already satisfied: torch in /usr/local/lib/python3.7/dist-packages (1.11.0+cu113)\n",
            "Requirement already satisfied: typing-extensions in /usr/local/lib/python3.7/dist-packages (from torch) (4.2.0)\n"
          ]
        }
      ],
      "source": [
        "!pip install torch"
      ]
    },
    {
      "cell_type": "code",
      "execution_count": 6,
      "metadata": {
        "colab": {
          "base_uri": "https://localhost:8080/"
        },
        "id": "1-A7o87Y0KJa",
        "outputId": "1cbef1d3-35d1-43e0-cd29-2d81be4b63ce"
      },
      "outputs": [
        {
          "name": "stdout",
          "output_type": "stream",
          "text": [
            "Requirement already satisfied: onnxruntime in /usr/local/lib/python3.7/dist-packages (1.11.0)\n",
            "Requirement already satisfied: numpy>=1.21.0 in /usr/local/lib/python3.7/dist-packages (from onnxruntime) (1.21.6)\n",
            "Requirement already satisfied: flatbuffers in /usr/local/lib/python3.7/dist-packages (from onnxruntime) (2.0)\n",
            "Requirement already satisfied: protobuf in /usr/local/lib/python3.7/dist-packages (from onnxruntime) (3.17.3)\n",
            "Requirement already satisfied: six>=1.9 in /usr/local/lib/python3.7/dist-packages (from protobuf->onnxruntime) (1.15.0)\n"
          ]
        }
      ],
      "source": [
        "!pip install onnxruntime "
      ]
    },
    {
      "cell_type": "code",
      "execution_count": 7,
      "metadata": {
        "colab": {
          "base_uri": "https://localhost:8080/"
        },
        "id": "yt-J1ojw0oFL",
        "outputId": "e81b1168-70e3-410d-bfe6-e05ba9503b93"
      },
      "outputs": [
        {
          "name": "stdout",
          "output_type": "stream",
          "text": [
            "Collecting onnx\n",
            "  Downloading onnx-1.11.0-cp37-cp37m-manylinux_2_12_x86_64.manylinux2010_x86_64.whl (12.8 MB)\n",
            "\u001b[K     |████████████████████████████████| 12.8 MB 21.5 MB/s \n",
            "\u001b[?25hRequirement already satisfied: protobuf>=3.12.2 in /usr/local/lib/python3.7/dist-packages (from onnx) (3.17.3)\n",
            "Requirement already satisfied: numpy>=1.16.6 in /usr/local/lib/python3.7/dist-packages (from onnx) (1.21.6)\n",
            "Requirement already satisfied: typing-extensions>=3.6.2.1 in /usr/local/lib/python3.7/dist-packages (from onnx) (4.2.0)\n",
            "Requirement already satisfied: six>=1.9 in /usr/local/lib/python3.7/dist-packages (from protobuf>=3.12.2->onnx) (1.15.0)\n",
            "Installing collected packages: onnx\n",
            "Successfully installed onnx-1.11.0\n"
          ]
        }
      ],
      "source": [
        "!pip install onnx"
      ]
    },
    {
      "cell_type": "code",
      "execution_count": 1,
      "metadata": {
        "id": "aUTRn8li0xFI"
      },
      "outputs": [],
      "source": [
        "import onnx"
      ]
    },
    {
      "cell_type": "code",
      "execution_count": 2,
      "metadata": {
        "colab": {
          "base_uri": "https://localhost:8080/",
          "height": 304
        },
        "id": "DMSQfJlf_C51",
        "outputId": "ec57f0ff-c542-473b-9b4c-2a3c2c88bdcd"
      },
      "outputs": [],
      "source": [
        "from onnxruntime import capi"
      ]
    },
    {
      "cell_type": "code",
      "execution_count": 3,
      "metadata": {
        "colab": {
          "base_uri": "https://localhost:8080/",
          "height": 328
        },
        "id": "QBjytTO40zh6",
        "outputId": "0bb2a905-de90-4ea4-f4bb-61fdaa5d4095"
      },
      "outputs": [],
      "source": [
        "onnx_model = onnx.load(\"yolov5s.onnx\")\n",
        "onnx.checker.check_model(onnx_model)"
      ]
    },
    {
      "cell_type": "code",
      "execution_count": 5,
      "metadata": {
        "colab": {
          "base_uri": "https://localhost:8080/",
          "height": 494
        },
        "id": "WjVqD4IV06EF",
        "outputId": "c7d5f92e-2c36-40f0-ca50-d7a20a7a1499"
      },
      "outputs": [
        {
          "ename": "NameError",
          "evalue": "name 'x' is not defined",
          "output_type": "error",
          "traceback": [
            "\u001b[1;31m---------------------------------------------------------------------------\u001b[0m",
            "\u001b[1;31mNameError\u001b[0m                                 Traceback (most recent call last)",
            "\u001b[1;32m~\\AppData\\Local\\Temp/ipykernel_6136/2287202620.py\u001b[0m in \u001b[0;36m<module>\u001b[1;34m\u001b[0m\n\u001b[0;32m      8\u001b[0m \u001b[1;33m\u001b[0m\u001b[0m\n\u001b[0;32m      9\u001b[0m \u001b[1;31m# compute ONNX Runtime output prediction\u001b[0m\u001b[1;33m\u001b[0m\u001b[1;33m\u001b[0m\u001b[1;33m\u001b[0m\u001b[0m\n\u001b[1;32m---> 10\u001b[1;33m \u001b[0mort_inputs\u001b[0m \u001b[1;33m=\u001b[0m \u001b[1;33m{\u001b[0m\u001b[0mort_session\u001b[0m\u001b[1;33m.\u001b[0m\u001b[0mget_inputs\u001b[0m\u001b[1;33m(\u001b[0m\u001b[1;33m)\u001b[0m\u001b[1;33m[\u001b[0m\u001b[1;36m0\u001b[0m\u001b[1;33m]\u001b[0m\u001b[1;33m.\u001b[0m\u001b[0mname\u001b[0m\u001b[1;33m:\u001b[0m \u001b[0mto_numpy\u001b[0m\u001b[1;33m(\u001b[0m\u001b[0mx\u001b[0m\u001b[1;33m)\u001b[0m\u001b[1;33m}\u001b[0m\u001b[1;33m\u001b[0m\u001b[1;33m\u001b[0m\u001b[0m\n\u001b[0m\u001b[0;32m     11\u001b[0m \u001b[0mort_outs\u001b[0m \u001b[1;33m=\u001b[0m \u001b[0mort_session\u001b[0m\u001b[1;33m.\u001b[0m\u001b[0mrun\u001b[0m\u001b[1;33m(\u001b[0m\u001b[1;32mNone\u001b[0m\u001b[1;33m,\u001b[0m \u001b[0mort_inputs\u001b[0m\u001b[1;33m)\u001b[0m\u001b[1;33m\u001b[0m\u001b[1;33m\u001b[0m\u001b[0m\n\u001b[0;32m     12\u001b[0m \u001b[1;33m\u001b[0m\u001b[0m\n",
            "\u001b[1;31mNameError\u001b[0m: name 'x' is not defined"
          ]
        }
      ],
      "source": [
        "import torch\n",
        "import onnxruntime \n",
        "import numpy as np\n",
        "ort_session = onnxruntime.InferenceSession(\"yolov5s.onnx\")\n",
        "\n",
        "def to_numpy(tensor):\n",
        "    return tensor.detach().cpu().numpy() if tensor.requires_grad else tensor.cpu().numpy()\n",
        "\n",
        "# compute ONNX Runtime output prediction\n",
        "ort_inputs = {ort_session.get_inputs()[0].name: to_numpy(x)}\n",
        "ort_outs = ort_session.run(None, ort_inputs)\n",
        "\n",
        "# compare ONNX Runtime and PyTorch results\n",
        "np.testing.assert_allclose(to_numpy(torch_out), ort_outs[0], rtol=1e-03, atol=1e-05)\n",
        "\n",
        "print(\"Exported model has been tested with ONNXRuntime, and the result looks good!\")"
      ]
    },
    {
      "cell_type": "code",
      "execution_count": null,
      "metadata": {},
      "outputs": [],
      "source": []
    }
  ],
  "metadata": {
    "colab": {
      "name": "Untitled10.ipynb",
      "provenance": []
    },
    "kernelspec": {
      "display_name": "Python 3",
      "name": "python3"
    },
    "language_info": {
      "codemirror_mode": {
        "name": "ipython",
        "version": 3
      },
      "file_extension": ".py",
      "mimetype": "text/x-python",
      "name": "python",
      "nbconvert_exporter": "python",
      "pygments_lexer": "ipython3",
      "version": "3.7.10"
    }
  },
  "nbformat": 4,
  "nbformat_minor": 0
}
